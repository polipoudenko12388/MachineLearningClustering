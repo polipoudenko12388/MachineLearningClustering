{
 "cells": [
  {
   "cell_type": "code",
   "execution_count": 2,
   "id": "c58bef4b",
   "metadata": {},
   "outputs": [],
   "source": [
    "from sklearn.tree import DecisionTreeClassifier\n",
    "from sklearn import tree\n",
    "import numpy as np\n",
    "import pandas as pd\n",
    "import pickle\n",
    "\n",
    "def strMas(Suitcard, Rankcard, PokerHand, data):\n",
    "      \n",
    "    mas = np.zeros((data.shape[0], data.shape[1]), dtype = 'object')\n",
    "    i = 0\n",
    "    while i < mas.shape[0]:\n",
    "        j = 0\n",
    "        while j < mas.shape[1]:\n",
    "            if j==(mas.shape[1]-1):  mas[i,j] = PokerHand[data[i,j]]\n",
    "            elif (j%2)==0: mas[i,j] = Suitcard[data[i,j]]\n",
    "            else: mas[i,j] = Rankcard[data[i,j]]\n",
    "            j+=1    \n",
    "        i+=1\n",
    "        \n",
    "    return mas"
   ]
  },
  {
   "cell_type": "code",
   "execution_count": 3,
   "id": "e5331137",
   "metadata": {
    "scrolled": true
   },
   "outputs": [],
   "source": [
    "\n",
    "# Создадим словари\n",
    "Suitcard = dict([(1, 'черва'), (2, 'пика'), (3, 'бубна'), (4, 'трефа')])\n",
    "Rankcard = dict([(1, 'туз'), (2, 'двойка'), (3, 'тройка'), (4, 'четверка'),\n",
    "                (5, 'пятерка'), (6, 'шестерка'), (7, 'семерка'),\n",
    "                (8, 'восьмерка'), (9, 'девятка'),(10, 'десятка'),\n",
    "                (11, 'валет'), (12, 'дама'),(13, 'король')])\n",
    "PokerHand = dict([(0, 'Ничего в руке; не признанная покерная комбинация'), (1, 'одна пара; одна пара равных рангов в пределах пяти карт'),  (2, 'две пары; две пары одинаковых рангов в пределах пяти карт'), \n",
    "                  (3, 'Тройка; три равных ранга в пяти картах'), (4, 'Straight; пять карт, расположенных последовательно без пропусков'), (5, 'Флеш; пять карт одной масти'), (6, 'Фулл-хаус; пара + тройка разного ранга'),\n",
    "                  (7, 'Каре; четыре равных ранга на пяти картах'), (8, 'Стрит-флеш'), (9, 'флеш-рояль')])\n"
   ]
  },
  {
   "cell_type": "code",
   "execution_count": 4,
   "id": "d2eaf253",
   "metadata": {
    "scrolled": true
   },
   "outputs": [
    {
     "ename": "OSError",
     "evalue": "hayes-roth.data not found.",
     "output_type": "error",
     "traceback": [
      "\u001b[1;31m---------------------------------------------------------------------------\u001b[0m",
      "\u001b[1;31mOSError\u001b[0m                                   Traceback (most recent call last)",
      "Input \u001b[1;32mIn [4]\u001b[0m, in \u001b[0;36m<cell line: 6>\u001b[1;34m()\u001b[0m\n\u001b[0;32m      1\u001b[0m columns \u001b[38;5;241m=\u001b[39m [\u001b[38;5;124m'\u001b[39m\u001b[38;5;124mS1\u001b[39m\u001b[38;5;124m'\u001b[39m,\u001b[38;5;124m'\u001b[39m\u001b[38;5;124mC1\u001b[39m\u001b[38;5;124m'\u001b[39m,\u001b[38;5;124m'\u001b[39m\u001b[38;5;124mS2\u001b[39m\u001b[38;5;124m'\u001b[39m,\u001b[38;5;124m'\u001b[39m\u001b[38;5;124mC2\u001b[39m\u001b[38;5;124m'\u001b[39m,\u001b[38;5;124m'\u001b[39m\u001b[38;5;124mS3\u001b[39m\u001b[38;5;124m'\u001b[39m,\u001b[38;5;124m'\u001b[39m\u001b[38;5;124mC3\u001b[39m\u001b[38;5;124m'\u001b[39m,\u001b[38;5;124m'\u001b[39m\u001b[38;5;124mS4\u001b[39m\u001b[38;5;124m'\u001b[39m, \u001b[38;5;124m'\u001b[39m\u001b[38;5;124mC4\u001b[39m\u001b[38;5;124m'\u001b[39m,\u001b[38;5;124m'\u001b[39m\u001b[38;5;124mS5\u001b[39m\u001b[38;5;124m'\u001b[39m, \u001b[38;5;124m'\u001b[39m\u001b[38;5;124mC5\u001b[39m\u001b[38;5;124m'\u001b[39m,\u001b[38;5;124m'\u001b[39m\u001b[38;5;124mПокерная рука-комбинация карт\u001b[39m\u001b[38;5;124m'\u001b[39m]\n\u001b[0;32m      2\u001b[0m \u001b[38;5;66;03m#dataTraining = np.genfromtxt('poker-hand-training-true.data', dtype=None, delimiter=\",\", max_rows=400)\u001b[39;00m\n\u001b[0;32m      3\u001b[0m \u001b[38;5;66;03m#dataTest = np.genfromtxt('poker-hand-testing.data', dtype=None, delimiter=\",\", max_rows=300)\u001b[39;00m\n\u001b[0;32m      4\u001b[0m \u001b[38;5;66;03m#datasetTraining = pd.DataFrame(strMas(Suitcard,Rankcard,PokerHand, dataTraining), columns=columns)\u001b[39;00m\n\u001b[1;32m----> 6\u001b[0m dataTraining \u001b[38;5;241m=\u001b[39m \u001b[43mnp\u001b[49m\u001b[38;5;241;43m.\u001b[39;49m\u001b[43mgenfromtxt\u001b[49m\u001b[43m(\u001b[49m\u001b[38;5;124;43m'\u001b[39;49m\u001b[38;5;124;43mhayes-roth.data\u001b[39;49m\u001b[38;5;124;43m'\u001b[39;49m\u001b[43m,\u001b[49m\u001b[43m \u001b[49m\u001b[43mdtype\u001b[49m\u001b[38;5;241;43m=\u001b[39;49m\u001b[38;5;28;43;01mNone\u001b[39;49;00m\u001b[43m,\u001b[49m\u001b[43m \u001b[49m\u001b[43mdelimiter\u001b[49m\u001b[38;5;241;43m=\u001b[39;49m\u001b[38;5;124;43m\"\u001b[39;49m\u001b[38;5;124;43m,\u001b[39;49m\u001b[38;5;124;43m\"\u001b[39;49m\u001b[43m)\u001b[49m\n\u001b[0;32m      7\u001b[0m dataTest \u001b[38;5;241m=\u001b[39m np\u001b[38;5;241m.\u001b[39mgenfromtxt(\u001b[38;5;124m'\u001b[39m\u001b[38;5;124mhayes-roth.data\u001b[39m\u001b[38;5;124m'\u001b[39m, dtype\u001b[38;5;241m=\u001b[39m\u001b[38;5;28;01mNone\u001b[39;00m, delimiter\u001b[38;5;241m=\u001b[39m\u001b[38;5;124m\"\u001b[39m\u001b[38;5;124m,\u001b[39m\u001b[38;5;124m\"\u001b[39m)\n\u001b[0;32m      8\u001b[0m \u001b[38;5;28mprint\u001b[39m(dataTraining)\n",
      "File \u001b[1;32mD:\\anaconda\\lib\\site-packages\\numpy\\lib\\npyio.py:1793\u001b[0m, in \u001b[0;36mgenfromtxt\u001b[1;34m(fname, dtype, comments, delimiter, skip_header, skip_footer, converters, missing_values, filling_values, usecols, names, excludelist, deletechars, replace_space, autostrip, case_sensitive, defaultfmt, unpack, usemask, loose, invalid_raise, max_rows, encoding, like)\u001b[0m\n\u001b[0;32m   1791\u001b[0m     fname \u001b[38;5;241m=\u001b[39m os_fspath(fname)\n\u001b[0;32m   1792\u001b[0m \u001b[38;5;28;01mif\u001b[39;00m \u001b[38;5;28misinstance\u001b[39m(fname, \u001b[38;5;28mstr\u001b[39m):\n\u001b[1;32m-> 1793\u001b[0m     fid \u001b[38;5;241m=\u001b[39m \u001b[43mnp\u001b[49m\u001b[38;5;241;43m.\u001b[39;49m\u001b[43mlib\u001b[49m\u001b[38;5;241;43m.\u001b[39;49m\u001b[43m_datasource\u001b[49m\u001b[38;5;241;43m.\u001b[39;49m\u001b[43mopen\u001b[49m\u001b[43m(\u001b[49m\u001b[43mfname\u001b[49m\u001b[43m,\u001b[49m\u001b[43m \u001b[49m\u001b[38;5;124;43m'\u001b[39;49m\u001b[38;5;124;43mrt\u001b[39;49m\u001b[38;5;124;43m'\u001b[39;49m\u001b[43m,\u001b[49m\u001b[43m \u001b[49m\u001b[43mencoding\u001b[49m\u001b[38;5;241;43m=\u001b[39;49m\u001b[43mencoding\u001b[49m\u001b[43m)\u001b[49m\n\u001b[0;32m   1794\u001b[0m     fid_ctx \u001b[38;5;241m=\u001b[39m contextlib\u001b[38;5;241m.\u001b[39mclosing(fid)\n\u001b[0;32m   1795\u001b[0m \u001b[38;5;28;01melse\u001b[39;00m:\n",
      "File \u001b[1;32mD:\\anaconda\\lib\\site-packages\\numpy\\lib\\_datasource.py:193\u001b[0m, in \u001b[0;36mopen\u001b[1;34m(path, mode, destpath, encoding, newline)\u001b[0m\n\u001b[0;32m    156\u001b[0m \u001b[38;5;124;03m\"\"\"\u001b[39;00m\n\u001b[0;32m    157\u001b[0m \u001b[38;5;124;03mOpen `path` with `mode` and return the file object.\u001b[39;00m\n\u001b[0;32m    158\u001b[0m \n\u001b[1;32m   (...)\u001b[0m\n\u001b[0;32m    189\u001b[0m \n\u001b[0;32m    190\u001b[0m \u001b[38;5;124;03m\"\"\"\u001b[39;00m\n\u001b[0;32m    192\u001b[0m ds \u001b[38;5;241m=\u001b[39m DataSource(destpath)\n\u001b[1;32m--> 193\u001b[0m \u001b[38;5;28;01mreturn\u001b[39;00m \u001b[43mds\u001b[49m\u001b[38;5;241;43m.\u001b[39;49m\u001b[43mopen\u001b[49m\u001b[43m(\u001b[49m\u001b[43mpath\u001b[49m\u001b[43m,\u001b[49m\u001b[43m \u001b[49m\u001b[43mmode\u001b[49m\u001b[43m,\u001b[49m\u001b[43m \u001b[49m\u001b[43mencoding\u001b[49m\u001b[38;5;241;43m=\u001b[39;49m\u001b[43mencoding\u001b[49m\u001b[43m,\u001b[49m\u001b[43m \u001b[49m\u001b[43mnewline\u001b[49m\u001b[38;5;241;43m=\u001b[39;49m\u001b[43mnewline\u001b[49m\u001b[43m)\u001b[49m\n",
      "File \u001b[1;32mD:\\anaconda\\lib\\site-packages\\numpy\\lib\\_datasource.py:533\u001b[0m, in \u001b[0;36mDataSource.open\u001b[1;34m(self, path, mode, encoding, newline)\u001b[0m\n\u001b[0;32m    530\u001b[0m     \u001b[38;5;28;01mreturn\u001b[39;00m _file_openers[ext](found, mode\u001b[38;5;241m=\u001b[39mmode,\n\u001b[0;32m    531\u001b[0m                               encoding\u001b[38;5;241m=\u001b[39mencoding, newline\u001b[38;5;241m=\u001b[39mnewline)\n\u001b[0;32m    532\u001b[0m \u001b[38;5;28;01melse\u001b[39;00m:\n\u001b[1;32m--> 533\u001b[0m     \u001b[38;5;28;01mraise\u001b[39;00m \u001b[38;5;167;01mIOError\u001b[39;00m(\u001b[38;5;124m\"\u001b[39m\u001b[38;5;132;01m%s\u001b[39;00m\u001b[38;5;124m not found.\u001b[39m\u001b[38;5;124m\"\u001b[39m \u001b[38;5;241m%\u001b[39m path)\n",
      "\u001b[1;31mOSError\u001b[0m: hayes-roth.data not found."
     ]
    }
   ],
   "source": [
    "columns = ['S1','C1','S2','C2','S3','C3','S4', 'C4','S5', 'C5','Покерная рука-комбинация карт']\n",
    "#dataTraining = np.genfromtxt('poker-hand-training-true.data', dtype=None, delimiter=\",\", max_rows=400)\n",
    "#dataTest = np.genfromtxt('poker-hand-testing.data', dtype=None, delimiter=\",\", max_rows=300)\n",
    "#datasetTraining = pd.DataFrame(strMas(Suitcard,Rankcard,PokerHand, dataTraining), columns=columns)\n",
    "\n",
    "dataTraining = np.genfromtxt('hayes-roth.data', dtype=None, delimiter=\",\")\n",
    "dataTest = np.genfromtxt('hayes-roth.data', dtype=None, delimiter=\",\")\n",
    "print(dataTraining)\n",
    "#dataTest\n",
    "#datasetTraining = pd.DataFrame(dataTraining, columns=columns)\n",
    "\n",
    "dataTraining[0,0]\n",
    "np.set_printoptions(threshold=np.inf)\n",
    "pd.set_option('display.max_rows', None)\n",
    "#print('S№ - масть карты; \\nC№ - ранг карты, где № - номер карты в руке. \\nОбучающие данные')\n",
    "#datasetTraining"
   ]
  },
  {
   "cell_type": "code",
   "execution_count": null,
   "id": "be996be9",
   "metadata": {},
   "outputs": [],
   "source": [
    "#datasetTest = pd.DataFrame(strMas(Suitcard,Rankcard,PokerHand, dataTest), columns=columns)\n",
    "#datasetTest = pd.DataFrame(dataTest, columns=columns)\n",
    "#print('S№ - масть карты; \\nC№ - ранг карты, где № - номер карты в руке. \\nТренировочные данные')\n",
    "#datasetTest"
   ]
  },
  {
   "cell_type": "code",
   "execution_count": null,
   "id": "12aee616",
   "metadata": {
    "scrolled": false
   },
   "outputs": [],
   "source": [
    "treeTraining = DecisionTreeClassifier(max_depth=11, min_samples_split = 0.001, min_samples_leaf=0.002); # создаем экземпляр классификатора\n",
    "X_train = np.array(dataTraining[:100, 0:dataTraining.shape[1]-1])\n",
    "Y_train = np.array(dataTraining[:100, dataTraining.shape[1]-1])\n",
    "X_test = np.array(dataTest[100:130, 0:dataTest.shape[1]-1])\n",
    "Y_test = np.array(dataTest[100:130, dataTest.shape[1]-1])\n",
    "treeTraining.fit(X_train, Y_train) # обучение классификатора\n",
    "\n",
    "pickle.dump(treeTraining, open('model', 'wb'))\n",
    "loaded_model = pickle.load(open('model', 'rb'))\n",
    "tree.plot_tree(loaded_model) # вывод дерева\n",
    "\n",
    "print(\" \\n Точность классификации итоговой модели на обучающей и тестовой выборках \\n \")\n",
    "print('точность тренировочной выборки:  ',  treeTraining.score(X_train, Y_train))\n",
    "print('ошибка классификации тренировочной выборки:  ',  (1-treeTraining.score(X_train, Y_train)))\n",
    "print('точность тестовой выборки: ',  treeTraining.score(X_test, Y_test))\n",
    "\n",
    "MasMinSamplesSplit=[0.01, 0.007, 0.004, 0.001]\n",
    "MasMinSamplesleaf=[0.1, 0.007, 0.01, 0.002]\n",
    "\n",
    "ii=0\n",
    "result = pd.DataFrame([], columns=[\"№\", \"max_depth\", \"min_samples_split\", \"min_samples_leaf\", \"train accuracy\", \"test accuracy\" ])\n",
    "for i in range(10,15):\n",
    "    for j in MasMinSamplesSplit:\n",
    "        for k in MasMinSamplesleaf:\n",
    "            treeTraining = DecisionTreeClassifier(max_depth=i, min_samples_split=j, min_samples_leaf=k)\n",
    "            treeTraining.fit(X_train, Y_train)\n",
    "            result.loc[ii]=[ii, i, j, k, treeTraining.score(X_train, Y_train),treeTraining.score(X_test, Y_test)]\n",
    "            ii+=1;\n",
    "\n",
    "                    \n",
    "print(\" \\nТаблица экспериментов подбора гиперпараметров \\n \")\n",
    "print(result.to_markdown())\n"
   ]
  },
  {
   "cell_type": "code",
   "execution_count": null,
   "id": "581b66a5",
   "metadata": {},
   "outputs": [],
   "source": []
  },
  {
   "cell_type": "code",
   "execution_count": null,
   "id": "73825ea6",
   "metadata": {},
   "outputs": [],
   "source": []
  },
  {
   "cell_type": "code",
   "execution_count": null,
   "id": "30ee8137",
   "metadata": {},
   "outputs": [],
   "source": []
  },
  {
   "cell_type": "code",
   "execution_count": null,
   "id": "bb51468e",
   "metadata": {},
   "outputs": [],
   "source": []
  },
  {
   "cell_type": "code",
   "execution_count": null,
   "id": "cd042733",
   "metadata": {},
   "outputs": [],
   "source": []
  }
 ],
 "metadata": {
  "kernelspec": {
   "display_name": "Python 3 (ipykernel)",
   "language": "python",
   "name": "python3"
  },
  "language_info": {
   "codemirror_mode": {
    "name": "ipython",
    "version": 3
   },
   "file_extension": ".py",
   "mimetype": "text/x-python",
   "name": "python",
   "nbconvert_exporter": "python",
   "pygments_lexer": "ipython3",
   "version": "3.9.12"
  }
 },
 "nbformat": 4,
 "nbformat_minor": 5
}
